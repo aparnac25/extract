{
 "cells": [
  {
   "cell_type": "code",
   "execution_count": 2,
   "id": "romantic-spirituality",
   "metadata": {},
   "outputs": [],
   "source": [
    "# packages to import\n",
    "from tika import parser \n",
    "import pandas as pd \n",
    "import os\n",
    "import re\n",
    "import folium\n",
    "from extract.decimaldegree import decimaldegree"
   ]
  },
  {
   "cell_type": "code",
   "execution_count": 19,
   "id": "stable-backup",
   "metadata": {},
   "outputs": [],
   "source": [
    "class Extract: \n",
    "    def __init__(self, workdir, pdffile):\n",
    "        # store input parameters\n",
    "        self.workdir = os.path.realpath(workdir)\n",
    "        self.pdffile = pdffile\n",
    "\n",
    "        #output file \n",
    "        #self.output = coords_df.to_csv(self.workdir)\n",
    "    \n",
    "    #function for conversion\n",
    "    def decimaldegree(degree, minutes, seconds, hemisphere):\n",
    "        \"\"\"\n",
    "        This function converts GPS coordinates in degrees, minutes, seconds \n",
    "        to decimal degrees\n",
    "        \"\"\"\n",
    "        if hemisphere.lower() in [\"w\", \"s\", \"west\", \"south\"]:\n",
    "            factor = -1.0\n",
    "        elif hemisphere.lower() in [\"n\", \"e\", \"north\", \"east\"]:\n",
    "            factor = 1.0\n",
    "        else:\n",
    "            raise ValueError(\"invalid hemisphere\")\n",
    "    \n",
    "    # check the order of operations in your code\n",
    "        return factor * (float(degree) + float(minutes)/60 + float(seconds)/3600)\n",
    "    \n",
    "    #define a function that will parse pdf, return coordinates, and return map and coordinates dataframe\n",
    "    def extract(self, pdffile):\n",
    "        \"\"\"\n",
    "        This function will parse the PDF into a string and from there it will extract \n",
    "        out gps coordiantes from the document and save a csv of GPS coordinates and \n",
    "        map \n",
    "        \"\"\"\n",
    "        # opening up PDF with tika parser\n",
    "        parsed_pdf = parser.from_file(self.pdffile)\n",
    "        \n",
    "        # saving content of PDF\n",
    "        pdf_data = parsed_pdf['content'] \n",
    "    \n",
    "        # get rid of all white space from parsed PDF\n",
    "        cleaned_data = \"\".join(pdf_data.split())\n",
    "    \n",
    "        # pattern for gps coordinates\n",
    "        pattern = re.compile('''(\\d{1,3}°\\d{1,3}′\\d{1,3}.\\d{1,3}′′[A-Za-z],\\d{1,3}°\\d{1,3}′\\d{1,3}.\\d{1,3}′′[A-Za-z])''')  \n",
    "    \n",
    "        # match the pattern to the parsed data.\n",
    "        gps_coords = pattern.findall(cleaned_data)\n",
    "        \n",
    "        # split list into latitude and longitude\n",
    "        split_coords = []\n",
    "    \n",
    "        for elem in gps_coords:\n",
    "            lst = elem.split(\",\")\n",
    "            lst2 = [lst[0], lst[1]]\n",
    "            split_coords.append(lst2)\n",
    "    \n",
    "        # convert dictionary to data frame \n",
    "        coords_df = pd.DataFrame(split_coords, columns=['Latitude', 'Longitude'])\n",
    "        \n",
    "        # split strings in data frame to degrees, minutes, seconds\n",
    "        coords_df[['Lat_deg']] = coords_df['Latitude'].str.split(\"°\").str[0]\n",
    "        coords_df[['Lat_min']] = coords_df['Latitude'].str.split(\"°\").str[1].str.split(\"′\").str[0]\n",
    "        coords_df[['Lat_sec']] = coords_df['Latitude'].str.split(\"′\").str[1].str.split(\"′′\").str[0]\n",
    "        coords_df[['Lat_hem']] = coords_df['Latitude'].str.split(\"′′\").str[1]\n",
    "        coords_df[['Lon_deg']] = coords_df['Longitude'].str.split(\"°\").str[0]\n",
    "        coords_df[['Lon_min']] = coords_df['Longitude'].str.split(\"°\").str[1].str.split(\"′\").str[0]\n",
    "        coords_df[['Lon_sec']] = coords_df['Longitude'].str.split(\"′\").str[1].str.split(\"′′\").str[0]\n",
    "        coords_df[['Lon_hem']] = coords_df['Longitude'].str.split(\"′′\").str[1]\n",
    "        \n",
    "        # apply that function along to rows, using lambda to specify the columns to use as input\n",
    "        coords_df['Lat_dd'] = coords_df.apply(\n",
    "            lambda row: decimaldegree(row['Lat_deg'], row['Lat_min'], row['Lat_sec'], row['Lat_hem']),\n",
    "            axis=1, result_type='expand'\n",
    "            )\n",
    "        \n",
    "        coords_df['Lon_dd'] = coords_df.apply(\n",
    "            lambda row: decimaldegree(row['Lon_deg'], row['Lon_min'], row['Lon_sec'], row['Lon_hem']),\n",
    "            axis=1, result_type='expand'\n",
    "            )\n",
    "    \n",
    "        # plot the GPS points from coords_df\n",
    "        # create the map\n",
    "        pdf_map = folium.Map(coords_df[['Lat_dd', 'Lon_dd']].mean().values.tolist())\n",
    "        \n",
    "        # markers for points in map\n",
    "        for lat, lon in zip(coords_df['Lat_dd'], coords_df['Lon_dd']):\n",
    "            folium.Marker([lat, lon]).add_to(pdf_map)\n",
    "        \n",
    "        # constrain the map    \n",
    "        sw = coords_df[['Lat_dd', 'Lon_dd']].min().values.tolist()\n",
    "        ne = coords_df[['Lat_dd', 'Lon_dd']].max().values.tolist()\n",
    "        pdf_map.fit_bounds([sw, ne]) \n",
    "        \n",
    "        # display map\n",
    "        display(pdf_map)\n",
    "        \n",
    "        # save map\n",
    "        pdf_map.save('pdf_map.html') \n",
    "    \n",
    "        # define path to Desktop for csv file of gps coordinates can save\n",
    "        #path = os.path.realpath(\"../Desktop/pdf_gps.csv\")\n",
    "        \n",
    "        return coords_df.to_csv(self.workdir)"
   ]
  },
  {
   "cell_type": "code",
   "execution_count": 22,
   "id": "rough-battlefield",
   "metadata": {},
   "outputs": [
    {
     "ename": "ImportError",
     "evalue": "cannot import name 'extract' from 'extract.extract' (/Users/pern/Desktop/project/extract/extract.py)",
     "output_type": "error",
     "traceback": [
      "\u001b[0;31m---------------------------------------------------------------------------\u001b[0m",
      "\u001b[0;31mImportError\u001b[0m                               Traceback (most recent call last)",
      "\u001b[0;32m<ipython-input-22-a174f05877a2>\u001b[0m in \u001b[0;36m<module>\u001b[0;34m\u001b[0m\n\u001b[0;32m----> 1\u001b[0;31m \u001b[0;32mimport\u001b[0m \u001b[0mextract\u001b[0m\u001b[0;34m\u001b[0m\u001b[0;34m\u001b[0m\u001b[0m\n\u001b[0m",
      "\u001b[0;32m~/Desktop/project/extract/__init__.py\u001b[0m in \u001b[0;36m<module>\u001b[0;34m\u001b[0m\n\u001b[1;32m      7\u001b[0m \u001b[0m__version__\u001b[0m \u001b[0;34m=\u001b[0m \u001b[0;34m\"0.0.1\"\u001b[0m\u001b[0;34m\u001b[0m\u001b[0;34m\u001b[0m\u001b[0m\n\u001b[1;32m      8\u001b[0m \u001b[0;34m\u001b[0m\u001b[0m\n\u001b[0;32m----> 9\u001b[0;31m \u001b[0;32mfrom\u001b[0m \u001b[0mextract\u001b[0m\u001b[0;34m.\u001b[0m\u001b[0mextract\u001b[0m \u001b[0;32mimport\u001b[0m \u001b[0mdecimaldegree\u001b[0m\u001b[0;34m,\u001b[0m \u001b[0mextract\u001b[0m\u001b[0;34m\u001b[0m\u001b[0;34m\u001b[0m\u001b[0m\n\u001b[0m\u001b[1;32m     10\u001b[0m \u001b[0;34m\u001b[0m\u001b[0m\n",
      "\u001b[0;31mImportError\u001b[0m: cannot import name 'extract' from 'extract.extract' (/Users/pern/Desktop/project/extract/extract.py)"
     ]
    }
   ],
   "source": [
    "import extract"
   ]
  },
  {
   "cell_type": "code",
   "execution_count": 11,
   "id": "acoustic-speaking",
   "metadata": {},
   "outputs": [
    {
     "data": {
      "text/plain": [
       "<bound method Extract.extract of <__main__.Extract object at 0x11847a640>>"
      ]
     },
     "execution_count": 11,
     "metadata": {},
     "output_type": "execute_result"
    }
   ],
   "source": []
  }
 ],
 "metadata": {
  "kernelspec": {
   "display_name": "Python 3",
   "language": "python",
   "name": "python3"
  },
  "language_info": {
   "codemirror_mode": {
    "name": "ipython",
    "version": 3
   },
   "file_extension": ".py",
   "mimetype": "text/x-python",
   "name": "python",
   "nbconvert_exporter": "python",
   "pygments_lexer": "ipython3",
   "version": "3.8.5"
  }
 },
 "nbformat": 4,
 "nbformat_minor": 5
}
